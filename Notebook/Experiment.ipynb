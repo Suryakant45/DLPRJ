{
 "cells": [
  {
   "cell_type": "code",
   "execution_count": 1,
   "id": "062faf26",
   "metadata": {},
   "outputs": [],
   "source": [
    "import torch\n",
    "import torch.nn as nn\n",
    "from torch.utils.data import DataLoader\n",
    "import torch.nn.functional as F\n",
    "from torchvision import datasets, transforms, models\n",
    "from torch.optim.lr_scheduler import StepLR\n",
    "from torchsummary import summary"
   ]
  },
  {
   "cell_type": "code",
   "execution_count": 2,
   "id": "91b61ca7",
   "metadata": {},
   "outputs": [],
   "source": [
    "import os\n",
    "import numpy as np\n",
    "import cv2\n",
    "import matplotlib.pyplot as plt\n",
    "import matplotlib.image as mpimg\n",
    "%matplotlib inline\n",
    "from PIL import Image\n",
    "from IPython.display import display\n",
    "from tqdm import tqdm"
   ]
  },
  {
   "cell_type": "code",
   "execution_count": 3,
   "id": "62927f17",
   "metadata": {},
   "outputs": [],
   "source": [
    "# changing the directory \n",
    "os.chdir(r'D:\\DLPRJ\\artifacts\\04_15_2025_19_39_10\\data_ingestion')"
   ]
  },
  {
   "cell_type": "code",
   "execution_count": 4,
   "id": "f9801439",
   "metadata": {},
   "outputs": [],
   "source": [
    "os.chdir(r'D:\\DLPRJ\\artifacts\\04_15_2025_19_39_10\\data_ingestion\\data')\n"
   ]
  },
  {
   "cell_type": "code",
   "execution_count": 8,
   "id": "d3cb9741",
   "metadata": {},
   "outputs": [
    {
     "name": "stdout",
     "output_type": "stream",
     "text": [
      "Changed directory successfully.\n"
     ]
    }
   ],
   "source": [
    "import os\n",
    "\n",
    "path = os.path.join(r'D:\\DLPRJ\\artifacts', '04_15_2025_19_39_10', 'data_ingestion', 'data')\n",
    "\n",
    "if os.path.exists(path):\n",
    "    os.chdir(path)\n",
    "    print(\"Changed directory successfully.\")\n",
    "else:\n",
    "    print(\"Path does not exist:\", path)\n"
   ]
  },
  {
   "cell_type": "code",
   "execution_count": 9,
   "id": "1d2d9f23",
   "metadata": {},
   "outputs": [
    {
     "data": {
      "text/plain": [
       "'D:\\\\DLPRJ\\\\artifacts\\\\04_15_2025_19_39_10\\\\data_ingestion\\\\data'"
      ]
     },
     "execution_count": 9,
     "metadata": {},
     "output_type": "execute_result"
    }
   ],
   "source": [
    "os.getcwd()"
   ]
  },
  {
   "cell_type": "code",
   "execution_count": 13,
   "id": "9f9b63fc",
   "metadata": {},
   "outputs": [],
   "source": [
    "data_path=os.getcwd()"
   ]
  },
  {
   "cell_type": "code",
   "execution_count": 14,
   "id": "ab5f3260",
   "metadata": {},
   "outputs": [],
   "source": [
    "# Defining the class name \n",
    "class_name = ['NORMAL','PNEUMONIA']"
   ]
  },
  {
   "cell_type": "code",
   "execution_count": 15,
   "id": "4d718c2e",
   "metadata": {},
   "outputs": [],
   "source": [
    "# Creating a function to  get the list of files\n",
    "def get_list_of_files(dir_name):\n",
    "    '''\n",
    "    input - The input directory location\n",
    "    output - Returns the list the files in the directory\n",
    "    '''\n",
    "    files_list = os.listdir(dir_name)\n",
    "    return files_list"
   ]
  },
  {
   "cell_type": "code",
   "execution_count": 16,
   "id": "e67c21a7",
   "metadata": {},
   "outputs": [
    {
     "data": {
      "text/plain": [
       "'D:\\\\DLPRJ\\\\artifacts\\\\04_15_2025_19_39_10\\\\data_ingestion\\\\data/train/NORMAL'"
      ]
     },
     "execution_count": 16,
     "metadata": {},
     "output_type": "execute_result"
    }
   ],
   "source": [
    "data_path+'/train/'+class_name[0]"
   ]
  },
  {
   "cell_type": "code",
   "execution_count": 17,
   "id": "b62dd3be",
   "metadata": {},
   "outputs": [],
   "source": [
    "files_list_normal_train = get_list_of_files(data_path+'/train/'+class_name[0])"
   ]
  },
  {
   "cell_type": "code",
   "execution_count": 18,
   "id": "e1a539d6",
   "metadata": {},
   "outputs": [
    {
     "data": {
      "text/plain": [
       "['dummy.jpg']"
      ]
     },
     "execution_count": 18,
     "metadata": {},
     "output_type": "execute_result"
    }
   ],
   "source": [
    "files_list_normal_train\n"
   ]
  },
  {
   "cell_type": "code",
   "execution_count": 19,
   "id": "56314ad9",
   "metadata": {},
   "outputs": [],
   "source": [
    "files_list_pneumonia_train = get_list_of_files(data_path+'/train/'+class_name[1])"
   ]
  },
  {
   "cell_type": "code",
   "execution_count": 20,
   "id": "c08e0995",
   "metadata": {},
   "outputs": [],
   "source": [
    "files_list_pneumonia_train = get_list_of_files(data_path+'/train/'+class_name[1])\n"
   ]
  },
  {
   "cell_type": "code",
   "execution_count": 21,
   "id": "1f7604db",
   "metadata": {},
   "outputs": [],
   "source": [
    "\n",
    "files_list_normal_test = get_list_of_files(data_path+'/test/'+class_name[0])\n",
    "files_list_pneumonia_test = get_list_of_files(data_path+'/test/'+class_name[1])"
   ]
  },
  {
   "cell_type": "code",
   "execution_count": 22,
   "id": "e5fd7d63",
   "metadata": {},
   "outputs": [
    {
     "data": {
      "text/plain": [
       "['dummy.jpg']"
      ]
     },
     "execution_count": 22,
     "metadata": {},
     "output_type": "execute_result"
    }
   ],
   "source": [
    "\n",
    "files_list_normal_test\n"
   ]
  },
  {
   "cell_type": "code",
   "execution_count": 23,
   "id": "7cc001c0",
   "metadata": {},
   "outputs": [
    {
     "data": {
      "text/plain": [
       "['dummy.jpg']"
      ]
     },
     "execution_count": 23,
     "metadata": {},
     "output_type": "execute_result"
    }
   ],
   "source": [
    "files_list_pneumonia_test"
   ]
  },
  {
   "cell_type": "code",
   "execution_count": 24,
   "id": "06f18346",
   "metadata": {},
   "outputs": [
    {
     "name": "stdout",
     "output_type": "stream",
     "text": [
      "Number of train samples in Normal category 1\n",
      "Number of train samples in Pneumonia category 1\n",
      "Number of test samples in Normal category 1\n",
      "Number of test samples in Pneumonia category 1\n"
     ]
    }
   ],
   "source": [
    "print(\"Number of train samples in Normal category {}\".format(len(files_list_normal_train)))\n",
    "print(\"Number of train samples in Pneumonia category {}\".format(len(files_list_pneumonia_train)))\n",
    "print(\"Number of test samples in Normal category {}\".format(len(files_list_normal_test)))\n",
    "print(\"Number of test samples in Pneumonia category {}\".format(len(files_list_pneumonia_test)))\n"
   ]
  },
  {
   "cell_type": "code",
   "execution_count": 25,
   "id": "a381fe65",
   "metadata": {},
   "outputs": [],
   "source": [
    "rand_img_no = np.random.randint(0,len(files_list_normal_train))\n"
   ]
  },
  {
   "cell_type": "code",
   "execution_count": 26,
   "id": "70f36abb",
   "metadata": {},
   "outputs": [
    {
     "data": {
      "text/plain": [
       "0"
      ]
     },
     "execution_count": 26,
     "metadata": {},
     "output_type": "execute_result"
    }
   ],
   "source": [
    "\n",
    "rand_img_no\n"
   ]
  },
  {
   "cell_type": "code",
   "execution_count": 27,
   "id": "3a4dc3a9",
   "metadata": {},
   "outputs": [
    {
     "data": {
      "text/plain": [
       "['dummy.jpg']"
      ]
     },
     "execution_count": 27,
     "metadata": {},
     "output_type": "execute_result"
    }
   ],
   "source": [
    "files_list_normal_train[:5]\n"
   ]
  },
  {
   "cell_type": "code",
   "execution_count": 28,
   "id": "a99e1eb7",
   "metadata": {},
   "outputs": [
    {
     "ename": "UnidentifiedImageError",
     "evalue": "cannot identify image file 'D:\\\\DLPRJ\\\\artifacts\\\\04_15_2025_19_39_10\\\\data_ingestion\\\\data/train/NORMAL/dummy.jpg'",
     "output_type": "error",
     "traceback": [
      "\u001b[31m---------------------------------------------------------------------------\u001b[39m",
      "\u001b[31mUnidentifiedImageError\u001b[39m                    Traceback (most recent call last)",
      "\u001b[36mCell\u001b[39m\u001b[36m \u001b[39m\u001b[32mIn[28]\u001b[39m\u001b[32m, line 2\u001b[39m\n\u001b[32m      1\u001b[39m img = data_path + \u001b[33m'\u001b[39m\u001b[33m/train/NORMAL/\u001b[39m\u001b[33m'\u001b[39m+ files_list_normal_train[rand_img_no]\n\u001b[32m----> \u001b[39m\u001b[32m2\u001b[39m \u001b[38;5;28mprint\u001b[39m(\u001b[43mplt\u001b[49m\u001b[43m.\u001b[49m\u001b[43mimread\u001b[49m\u001b[43m(\u001b[49m\u001b[43mimg\u001b[49m\u001b[43m)\u001b[49m.shape)\n\u001b[32m      3\u001b[39m img = mpimg.imread(img)\n\u001b[32m      4\u001b[39m imgplot = plt.imshow(img)\n",
      "\u001b[36mFile \u001b[39m\u001b[32md:\\DLPRJ\\env\\Lib\\site-packages\\matplotlib\\pyplot.py:2607\u001b[39m, in \u001b[36mimread\u001b[39m\u001b[34m(fname, format)\u001b[39m\n\u001b[32m   2603\u001b[39m \u001b[38;5;129m@_copy_docstring_and_deprecators\u001b[39m(matplotlib.image.imread)\n\u001b[32m   2604\u001b[39m \u001b[38;5;28;01mdef\u001b[39;00m\u001b[38;5;250m \u001b[39m\u001b[34mimread\u001b[39m(\n\u001b[32m   2605\u001b[39m         fname: \u001b[38;5;28mstr\u001b[39m | pathlib.Path | BinaryIO, \u001b[38;5;28mformat\u001b[39m: \u001b[38;5;28mstr\u001b[39m | \u001b[38;5;28;01mNone\u001b[39;00m = \u001b[38;5;28;01mNone\u001b[39;00m\n\u001b[32m   2606\u001b[39m ) -> np.ndarray:\n\u001b[32m-> \u001b[39m\u001b[32m2607\u001b[39m     \u001b[38;5;28;01mreturn\u001b[39;00m \u001b[43mmatplotlib\u001b[49m\u001b[43m.\u001b[49m\u001b[43mimage\u001b[49m\u001b[43m.\u001b[49m\u001b[43mimread\u001b[49m\u001b[43m(\u001b[49m\u001b[43mfname\u001b[49m\u001b[43m,\u001b[49m\u001b[43m \u001b[49m\u001b[38;5;28;43mformat\u001b[39;49m\u001b[43m)\u001b[49m\n",
      "\u001b[36mFile \u001b[39m\u001b[32md:\\DLPRJ\\env\\Lib\\site-packages\\matplotlib\\image.py:1512\u001b[39m, in \u001b[36mimread\u001b[39m\u001b[34m(fname, format)\u001b[39m\n\u001b[32m   1505\u001b[39m \u001b[38;5;28;01mif\u001b[39;00m \u001b[38;5;28misinstance\u001b[39m(fname, \u001b[38;5;28mstr\u001b[39m) \u001b[38;5;129;01mand\u001b[39;00m \u001b[38;5;28mlen\u001b[39m(parse.urlparse(fname).scheme) > \u001b[32m1\u001b[39m:\n\u001b[32m   1506\u001b[39m     \u001b[38;5;66;03m# Pillow doesn't handle URLs directly.\u001b[39;00m\n\u001b[32m   1507\u001b[39m     \u001b[38;5;28;01mraise\u001b[39;00m \u001b[38;5;167;01mValueError\u001b[39;00m(\n\u001b[32m   1508\u001b[39m         \u001b[33m\"\u001b[39m\u001b[33mPlease open the URL for reading and pass the \u001b[39m\u001b[33m\"\u001b[39m\n\u001b[32m   1509\u001b[39m         \u001b[33m\"\u001b[39m\u001b[33mresult to Pillow, e.g. with \u001b[39m\u001b[33m\"\u001b[39m\n\u001b[32m   1510\u001b[39m         \u001b[33m\"\u001b[39m\u001b[33m``np.array(PIL.Image.open(urllib.request.urlopen(url)))``.\u001b[39m\u001b[33m\"\u001b[39m\n\u001b[32m   1511\u001b[39m         )\n\u001b[32m-> \u001b[39m\u001b[32m1512\u001b[39m \u001b[38;5;28;01mwith\u001b[39;00m \u001b[43mimg_open\u001b[49m\u001b[43m(\u001b[49m\u001b[43mfname\u001b[49m\u001b[43m)\u001b[49m \u001b[38;5;28;01mas\u001b[39;00m image:\n\u001b[32m   1513\u001b[39m     \u001b[38;5;28;01mreturn\u001b[39;00m (_pil_png_to_float_array(image)\n\u001b[32m   1514\u001b[39m             \u001b[38;5;28;01mif\u001b[39;00m \u001b[38;5;28misinstance\u001b[39m(image, PIL.PngImagePlugin.PngImageFile) \u001b[38;5;28;01melse\u001b[39;00m\n\u001b[32m   1515\u001b[39m             pil_to_array(image))\n",
      "\u001b[36mFile \u001b[39m\u001b[32md:\\DLPRJ\\env\\Lib\\site-packages\\PIL\\Image.py:3532\u001b[39m, in \u001b[36mopen\u001b[39m\u001b[34m(fp, mode, formats)\u001b[39m\n\u001b[32m   3530\u001b[39m     warnings.warn(message)\n\u001b[32m   3531\u001b[39m msg = \u001b[33m\"\u001b[39m\u001b[33mcannot identify image file \u001b[39m\u001b[38;5;132;01m%r\u001b[39;00m\u001b[33m\"\u001b[39m % (filename \u001b[38;5;28;01mif\u001b[39;00m filename \u001b[38;5;28;01melse\u001b[39;00m fp)\n\u001b[32m-> \u001b[39m\u001b[32m3532\u001b[39m \u001b[38;5;28;01mraise\u001b[39;00m UnidentifiedImageError(msg)\n",
      "\u001b[31mUnidentifiedImageError\u001b[39m: cannot identify image file 'D:\\\\DLPRJ\\\\artifacts\\\\04_15_2025_19_39_10\\\\data_ingestion\\\\data/train/NORMAL/dummy.jpg'"
     ]
    }
   ],
   "source": [
    "img = data_path + '/train/NORMAL/'+ files_list_normal_train[rand_img_no]\n",
    "print(plt.imread(img).shape)\n",
    "img = mpimg.imread(img)\n",
    "imgplot = plt.imshow(img)\n",
    "plt.show()"
   ]
  },
  {
   "cell_type": "code",
   "execution_count": null,
   "id": "52fc7979",
   "metadata": {},
   "outputs": [],
   "source": []
  }
 ],
 "metadata": {
  "kernelspec": {
   "display_name": "Python 3",
   "language": "python",
   "name": "python3"
  },
  "language_info": {
   "codemirror_mode": {
    "name": "ipython",
    "version": 3
   },
   "file_extension": ".py",
   "mimetype": "text/x-python",
   "name": "python",
   "nbconvert_exporter": "python",
   "pygments_lexer": "ipython3",
   "version": "3.13.0"
  }
 },
 "nbformat": 4,
 "nbformat_minor": 5
}
